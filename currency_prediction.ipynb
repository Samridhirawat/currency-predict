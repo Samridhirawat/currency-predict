{
  "nbformat": 4,
  "nbformat_minor": 0,
  "metadata": {
    "colab": {
      "provenance": [],
      "authorship_tag": "ABX9TyMkViUyzLasKOoEUw0nE7FT",
      "include_colab_link": true
    },
    "kernelspec": {
      "name": "python3",
      "display_name": "Python 3"
    },
    "language_info": {
      "name": "python"
    }
  },
  "cells": [
    {
      "cell_type": "markdown",
      "metadata": {
        "id": "view-in-github",
        "colab_type": "text"
      },
      "source": [
        "<a href=\"https://colab.research.google.com/github/Samridhirawat/currency-predict/blob/main/currency_prediction.ipynb\" target=\"_parent\"><img src=\"https://colab.research.google.com/assets/colab-badge.svg\" alt=\"Open In Colab\"/></a>"
      ]
    },
    {
      "cell_type": "code",
      "execution_count": 2,
      "metadata": {
        "colab": {
          "base_uri": "https://localhost:8080/"
        },
        "id": "uTRwYueYRSB5",
        "outputId": "5a1fce5c-b931-4c59-f622-f6f91a9800ff"
      },
      "outputs": [
        {
          "output_type": "stream",
          "name": "stdout",
          "text": [
            "Landing AI installed sucessfully!!\n"
          ]
        }
      ],
      "source": [
        "!pip install landingAI  &> /dev/null\n",
        "print (\"Landing AI installed sucessfully!!\")"
      ]
    },
    {
      "cell_type": "code",
      "source": [
        "from PIL import Image\n",
        "from landingai.predict import Predictor\n",
        "# Enter your API Key\n",
        "endpoint_id = \"62afd927-9b47-4a62-9df9-bb346805cc2f\"\n",
        "api_key = \"land_sk_Uh4jJ6ox98ocEwWvwjqfZlMWy4ipc6Iww42FCqrLwgnmhaSsHx\"\n",
        "# Load your image\n",
        "image = Image.open(\"/content/2 Rupees (Tiger bust) India (1968)_ B-8 L. K (1). Jha\")\n",
        "# Run inference\n",
        "predictor = Predictor(endpoint_id, api_key=api_key)\n",
        "predictions = predictor.predict(image)\n",
        "predictions = predictor.predict(image)\n",
        "predictions"
      ],
      "metadata": {
        "id": "XKbNqhp6RqFa",
        "colab": {
          "base_uri": "https://localhost:8080/"
        },
        "outputId": "e661d697-1ad8-4bb7-b3a5-e90f21235c22"
      },
      "execution_count": 4,
      "outputs": [
        {
          "output_type": "execute_result",
          "data": {
            "text/plain": [
              "[ClassificationPrediction(score=0.1314113587141037, label_name='tanjore temple note 1953', label_index=2)]"
            ]
          },
          "metadata": {},
          "execution_count": 4
        }
      ]
    }
  ]
}